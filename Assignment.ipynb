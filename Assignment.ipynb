{
 "cells": [
  {
   "cell_type": "code",
   "execution_count": 7,
   "id": "250a4571-d4c4-471f-8183-75df09c26b7b",
   "metadata": {},
   "outputs": [],
   "source": [
    "import pandas as pd"
   ]
  },
  {
   "cell_type": "code",
   "execution_count": 8,
   "id": "dbd29893-4a48-4410-82d2-93a21b8c2c26",
   "metadata": {},
   "outputs": [],
   "source": [
    "# Load the CSV file into a DataFrame\n",
    "df = pd.read_csv(\"SBIN_Data.csv\")"
   ]
  },
  {
   "cell_type": "code",
   "execution_count": 14,
   "id": "ea8a6d9f-c66e-4ae9-ad9b-75d36f874e93",
   "metadata": {},
   "outputs": [],
   "source": [
    "if 'Date' in df.index.names:\n",
    "    df.reset_index(drop=True, inplace=True)\n",
    "\n",
    "df.sort_values(by=['Date', 'Time'], inplace=True)"
   ]
  },
  {
   "cell_type": "code",
   "execution_count": 15,
   "id": "79179ff2-0545-4bc5-8d17-9740d14326b5",
   "metadata": {},
   "outputs": [],
   "source": [
    "def calculate_rank(row, past_days=5):\n",
    "    current_date = row['Date']\n",
    "    current_time = row['Time']\n",
    "    current_volume = row['Volume']\n",
    "    \n",
    "    past_data = df[(df['Date'] < current_date) & (df['Date'] >= current_date - pd.Timedelta(days=past_days)) & (df['Date'].dt.dayofweek < 5)]\n",
    "    \n",
    "    past_data_same_time = past_data[past_data['Time'] == current_time]\n",
    "    \n",
    "    rank = (past_data_same_time['Volume'] > current_volume).sum() + 1\n",
    "    \n",
    "    return rank"
   ]
  },
  {
   "cell_type": "code",
   "execution_count": 16,
   "id": "8415bc9e-ac8a-4e08-9ac0-7d4e4ea6acfe",
   "metadata": {},
   "outputs": [],
   "source": [
    "df['Rank'] = df.apply(calculate_rank, axis=1)\n",
    "\n",
    "df.to_csv('output.csv', index=False)"
   ]
  },
  {
   "cell_type": "code",
   "execution_count": null,
   "id": "7cad6040-fc3a-4ed2-8481-c5c9b68c141e",
   "metadata": {},
   "outputs": [],
   "source": []
  }
 ],
 "metadata": {
  "kernelspec": {
   "display_name": "Python 3 (ipykernel)",
   "language": "python",
   "name": "python3"
  },
  "language_info": {
   "codemirror_mode": {
    "name": "ipython",
    "version": 3
   },
   "file_extension": ".py",
   "mimetype": "text/x-python",
   "name": "python",
   "nbconvert_exporter": "python",
   "pygments_lexer": "ipython3",
   "version": "3.11.5"
  }
 },
 "nbformat": 4,
 "nbformat_minor": 5
}
